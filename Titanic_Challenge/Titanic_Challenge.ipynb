{
  "cells": [
    {
      "cell_type": "markdown",
      "metadata": {
        "id": "view-in-github",
        "colab_type": "text"
      },
      "source": [
        "<a href=\"https://colab.research.google.com/github/Baah134/Baah134/blob/main/Titanic_Challenge/Titanic_Challenge.ipynb\" target=\"_parent\"><img src=\"https://colab.research.google.com/assets/colab-badge.svg\" alt=\"Open In Colab\"/></a>"
      ]
    },
    {
      "cell_type": "code",
      "execution_count": null,
      "id": "e00bf8ef-386f-4a4c-8aa0-9ed434002842",
      "metadata": {
        "id": "e00bf8ef-386f-4a4c-8aa0-9ed434002842"
      },
      "outputs": [],
      "source": [
        "import pandas as pd\n",
        "from matplotlib import pyplot as plt\n",
        "import numpy as np\n",
        "%matplotlib inline"
      ]
    },
    {
      "cell_type": "code",
      "execution_count": null,
      "id": "7d28ed6d-f483-4b40-aa31-10e5a0cbb139",
      "metadata": {
        "id": "7d28ed6d-f483-4b40-aa31-10e5a0cbb139"
      },
      "outputs": [],
      "source": [
        "from google.colab import drive\n",
        "drive.mount('/content/drive')\n",
        "\n",
        "path = '/content/drive/MyDrive/DeepLearning/Titanic_Challenge/train.csv'\n",
        "\n",
        "df = pd.read_csv(path)\n",
        "df.sample(10)"
      ]
    },
    {
      "cell_type": "code",
      "source": [
        "df.shape"
      ],
      "metadata": {
        "id": "nCG-q8l8N3hp"
      },
      "id": "nCG-q8l8N3hp",
      "execution_count": null,
      "outputs": []
    },
    {
      "cell_type": "code",
      "execution_count": null,
      "id": "e125eb96-6176-4f69-9488-efa69549daf1",
      "metadata": {
        "id": "e125eb96-6176-4f69-9488-efa69549daf1"
      },
      "outputs": [],
      "source": [
        "#Dropping data that is either incomplete or irrelevant\n",
        "df.drop('Name', axis='columns',inplace=True)\n",
        "df.drop('Cabin', axis='columns',inplace=True)\n",
        "df.drop('Ticket', axis='columns',inplace=True)\n",
        "#df.drop('PassengerId', axis='columns',inplace=True)"
      ]
    },
    {
      "cell_type": "code",
      "execution_count": null,
      "id": "f527962f-442b-43ab-a9a6-999e947ccf97",
      "metadata": {
        "id": "f527962f-442b-43ab-a9a6-999e947ccf97"
      },
      "outputs": [],
      "source": [
        "df.shape"
      ]
    },
    {
      "cell_type": "code",
      "execution_count": null,
      "id": "3cc98648-de73-49d9-901d-b73b07d2ee09",
      "metadata": {
        "id": "3cc98648-de73-49d9-901d-b73b07d2ee09"
      },
      "outputs": [],
      "source": [
        "df.iloc[630].Age"
      ]
    },
    {
      "cell_type": "code",
      "execution_count": null,
      "id": "f2542545-0004-46dd-9a90-0c9d6ea0ba8c",
      "metadata": {
        "id": "f2542545-0004-46dd-9a90-0c9d6ea0ba8c"
      },
      "outputs": [],
      "source": [
        "df.dropna(subset=['Age'], inplace=True)\n",
        "df.dropna(subset=['Embarked'], inplace=True)"
      ]
    },
    {
      "cell_type": "code",
      "execution_count": null,
      "id": "2a00ef07-401c-496d-a8f7-ab8b8002568c",
      "metadata": {
        "id": "2a00ef07-401c-496d-a8f7-ab8b8002568c"
      },
      "outputs": [],
      "source": [
        "df.shape"
      ]
    },
    {
      "cell_type": "code",
      "execution_count": null,
      "id": "fcbb60b4-c76a-4c25-b3a1-8c370b84a0c0",
      "metadata": {
        "id": "fcbb60b4-c76a-4c25-b3a1-8c370b84a0c0"
      },
      "outputs": [],
      "source": [
        "df"
      ]
    },
    {
      "cell_type": "code",
      "execution_count": null,
      "id": "97244670-4a5c-4a02-bdba-25fe4348b333",
      "metadata": {
        "id": "97244670-4a5c-4a02-bdba-25fe4348b333"
      },
      "outputs": [],
      "source": [
        "df.dtypes"
      ]
    },
    {
      "cell_type": "code",
      "execution_count": null,
      "id": "7319821c-0040-4c98-a494-886cecf813e5",
      "metadata": {
        "id": "7319821c-0040-4c98-a494-886cecf813e5"
      },
      "outputs": [],
      "source": [
        "def print_unique_col_values(df):\n",
        "       for column in df:\n",
        "            if df[column].dtypes=='object':\n",
        "                print(f'{column}: {df[column].unique()}')"
      ]
    },
    {
      "cell_type": "code",
      "source": [
        "print_unique_col_values(df)"
      ],
      "metadata": {
        "id": "fvmV8VzLQdz1"
      },
      "id": "fvmV8VzLQdz1",
      "execution_count": null,
      "outputs": []
    },
    {
      "cell_type": "code",
      "source": [
        "df['Sex'].replace({'female':1,'male':0},inplace=True)"
      ],
      "metadata": {
        "id": "QDyo3JriRvk6"
      },
      "id": "QDyo3JriRvk6",
      "execution_count": null,
      "outputs": []
    },
    {
      "cell_type": "code",
      "source": [
        "for col in df:\n",
        "    print(f'{col}: {df[col].unique()}')"
      ],
      "metadata": {
        "id": "_n9mHjNwSByl"
      },
      "id": "_n9mHjNwSByl",
      "execution_count": null,
      "outputs": []
    },
    {
      "cell_type": "code",
      "source": [
        "#One-hot encoding for Categorical Columns\n",
        "df = pd.get_dummies(data=df, columns=['Embarked'], dtype= int)\n",
        "df.columns"
      ],
      "metadata": {
        "id": "F3k8rrY5SXzo"
      },
      "id": "F3k8rrY5SXzo",
      "execution_count": null,
      "outputs": []
    },
    {
      "cell_type": "code",
      "source": [
        "df.dtypes"
      ],
      "metadata": {
        "id": "j9TrBHJrUbBg"
      },
      "id": "j9TrBHJrUbBg",
      "execution_count": null,
      "outputs": []
    },
    {
      "cell_type": "code",
      "source": [
        "cols_to_scale = ['Age','Fare','SibSp','Parch','Pclass']\n",
        "from sklearn.preprocessing import MinMaxScaler\n",
        "scaler = MinMaxScaler()\n",
        "df[cols_to_scale] = scaler.fit_transform(df[cols_to_scale])"
      ],
      "metadata": {
        "id": "0tNa09_IWve2"
      },
      "id": "0tNa09_IWve2",
      "execution_count": null,
      "outputs": []
    },
    {
      "cell_type": "code",
      "source": [
        "df.sample(10)"
      ],
      "metadata": {
        "id": "9nYTKFX_Xduv"
      },
      "id": "9nYTKFX_Xduv",
      "execution_count": null,
      "outputs": []
    },
    {
      "cell_type": "code",
      "source": [
        "X = df.drop('Survived',axis='columns')\n",
        "y = df['Survived']\n",
        "\n",
        "from sklearn.model_selection import train_test_split\n",
        "X_train, X_test, y_train, y_test = train_test_split(X,y,test_size=0.2,random_state=5)"
      ],
      "metadata": {
        "id": "fBNd4jt7BG51"
      },
      "id": "fBNd4jt7BG51",
      "execution_count": null,
      "outputs": []
    },
    {
      "cell_type": "code",
      "source": [
        "X_train.shape"
      ],
      "metadata": {
        "id": "UHARvGFrBxT2"
      },
      "id": "UHARvGFrBxT2",
      "execution_count": null,
      "outputs": []
    },
    {
      "cell_type": "code",
      "source": [
        "X_train[:10]"
      ],
      "metadata": {
        "id": "vnpoxE4yCBAz"
      },
      "id": "vnpoxE4yCBAz",
      "execution_count": null,
      "outputs": []
    },
    {
      "cell_type": "code",
      "source": [
        "import tensorflow as tf\n",
        "from tensorflow import keras\n",
        "\n",
        "\n",
        "model = keras.Sequential([\n",
        "    keras.layers.Dense(10, input_shape=(10,), activation='relu'),\n",
        "    keras.layers.Dense(25, activation='relu'),\n",
        "    keras.layers.Dense(100, activation='relu'),\n",
        "    keras.layers.Dense(90, activation='relu'),\n",
        "    keras.layers.Dense(1, activation='sigmoid')\n",
        "])\n",
        "\n",
        "# opt = keras.optimizers.Adam(learning_rate=0.01)\n",
        "\n",
        "model.compile(optimizer='adam',\n",
        "              loss='binary_crossentropy',\n",
        "              metrics=['accuracy'])\n",
        "\n",
        "model.fit(X_train, y_train, epochs=100)"
      ],
      "metadata": {
        "id": "oZaIswCQCHaL"
      },
      "id": "oZaIswCQCHaL",
      "execution_count": null,
      "outputs": []
    },
    {
      "cell_type": "code",
      "source": [
        "model.evaluate(X_test, y_test)"
      ],
      "metadata": {
        "id": "TjCcOvCjC6Go"
      },
      "id": "TjCcOvCjC6Go",
      "execution_count": null,
      "outputs": []
    },
    {
      "cell_type": "code",
      "source": [
        "model.save_weights('my_model_weights.weights.h5')\n"
      ],
      "metadata": {
        "id": "wOYJBY39ePK0"
      },
      "id": "wOYJBY39ePK0",
      "execution_count": null,
      "outputs": []
    },
    {
      "cell_type": "code",
      "source": [
        "new_data_path = '/content/drive/MyDrive/DeepLearning/Titanic_Challenge/test.csv'  # Replace with the actual path\n",
        "new_df = pd.read_csv(new_data_path)"
      ],
      "metadata": {
        "id": "Unl7M1DqcD0X"
      },
      "id": "Unl7M1DqcD0X",
      "execution_count": null,
      "outputs": []
    },
    {
      "cell_type": "code",
      "source": [
        "new_df.sample(10)"
      ],
      "metadata": {
        "id": "3zISZFeZc0zB"
      },
      "id": "3zISZFeZc0zB",
      "execution_count": null,
      "outputs": []
    },
    {
      "cell_type": "code",
      "source": [
        "#Dropping data that is either incomplete or irrelevant\n",
        "new_df.drop('Name', axis='columns',inplace=True)\n",
        "new_df.drop('Cabin', axis='columns',inplace=True)\n",
        "new_df.drop('Ticket', axis='columns',inplace=True)\n",
        "\n",
        "\n",
        "new_df.fillna(0, inplace=True)\n",
        "\n",
        "new_df['Sex'].replace({'female':1,'male':0},inplace=True)\n",
        "\n",
        "\n",
        "\n",
        "cols_to_scale = ['Age','Fare','SibSp','Parch','Pclass',\"PassengerId\"]\n",
        "from sklearn.preprocessing import MinMaxScaler\n",
        "scaler = MinMaxScaler()\n",
        "new_df[cols_to_scale] = scaler.fit_transform(new_df[cols_to_scale])"
      ],
      "metadata": {
        "id": "EEh5WMfagf56"
      },
      "id": "EEh5WMfagf56",
      "execution_count": null,
      "outputs": []
    },
    {
      "cell_type": "code",
      "source": [
        "new_df.dtypes"
      ],
      "metadata": {
        "id": "6H3rkFkTiPub"
      },
      "id": "6H3rkFkTiPub",
      "execution_count": null,
      "outputs": []
    },
    {
      "cell_type": "code",
      "source": [
        "#One-hot encoding for Categorical Columns\n",
        "new_df = pd.get_dummies(data=new_df, columns=['Embarked'], dtype= int)\n",
        "new_df.columns"
      ],
      "metadata": {
        "id": "Z05djzJEiYlE"
      },
      "id": "Z05djzJEiYlE",
      "execution_count": null,
      "outputs": []
    },
    {
      "cell_type": "code",
      "source": [
        "new_df.sample(10)"
      ],
      "metadata": {
        "id": "sosFHvZmifcJ"
      },
      "id": "sosFHvZmifcJ",
      "execution_count": null,
      "outputs": []
    },
    {
      "cell_type": "code",
      "source": [
        "model.load_weights('my_model_weights.weights.h5')\n",
        "predictions = model.predict(new_df)\n",
        "predicted_labels = (predictions > 0.5).astype(int)\n"
      ],
      "metadata": {
        "id": "7vHaiqLHjjzr"
      },
      "id": "7vHaiqLHjjzr",
      "execution_count": null,
      "outputs": []
    },
    {
      "cell_type": "code",
      "source": [
        "nnew_df = pd.read_csv(new_data_path)"
      ],
      "metadata": {
        "id": "G_fr3oC9qBzz"
      },
      "id": "G_fr3oC9qBzz",
      "execution_count": null,
      "outputs": []
    },
    {
      "cell_type": "code",
      "source": [
        "predictions_df = pd.DataFrame({'PassengerId': nnew_df['PassengerId'], 'Survived': predicted_labels.ravel()}) #Flatten predicted_labels to 1D\n",
        "predictions_df.to_csv('predictions.csv', index=False)  # Set index=False to avoid saving the index\n",
        "from google.colab import files\n",
        "files.download('predictions.csv')"
      ],
      "metadata": {
        "id": "LAWZyfzTkmxV"
      },
      "id": "LAWZyfzTkmxV",
      "execution_count": null,
      "outputs": []
    }
  ],
  "metadata": {
    "kernelspec": {
      "display_name": "Python 3",
      "name": "python3"
    },
    "language_info": {
      "codemirror_mode": {
        "name": "ipython",
        "version": 3
      },
      "file_extension": ".py",
      "mimetype": "text/x-python",
      "name": "python",
      "nbconvert_exporter": "python",
      "pygments_lexer": "ipython3",
      "version": "3.12.4"
    },
    "colab": {
      "provenance": [],
      "include_colab_link": true
    }
  },
  "nbformat": 4,
  "nbformat_minor": 5
}